{
 "cells": [
  {
   "cell_type": "code",
   "execution_count": 1,
   "id": "0586d72f-b20c-4caf-9d5a-1294656c7ad2",
   "metadata": {},
   "outputs": [
    {
     "name": "stdout",
     "output_type": "stream",
     "text": [
      "4.0\n"
     ]
    }
   ],
   "source": [
    "a= 5 + 4 * 9 % (3 + 1) / 6 - 1\n",
    "print(a)"
   ]
  },
  {
   "cell_type": "code",
   "execution_count": 5,
   "id": "e60d20ff-9cfd-423b-a33b-4160bc133fe0",
   "metadata": {},
   "outputs": [
    {
     "name": "stdin",
     "output_type": "stream",
     "text": [
      "enter the number 7\n"
     ]
    },
    {
     "name": "stdout",
     "output_type": "stream",
     "text": [
      "odd\n"
     ]
    }
   ],
   "source": [
    "n=int(input(\"enter the number\"))\n",
    "if n%2==0:\n",
    "    print(\"even\")\n",
    "\n",
    "else:\n",
    "    print(\"odd\")"
   ]
  },
  {
   "cell_type": "code",
   "execution_count": 11,
   "id": "dcbc91eb-a906-4d85-8348-ca65f491e755",
   "metadata": {},
   "outputs": [
    {
     "name": "stdin",
     "output_type": "stream",
     "text": [
      "ENTER THE TABLE NUMBER 2\n",
      "ENTER THE NUMBER OF TABLE 10\n"
     ]
    },
    {
     "name": "stdout",
     "output_type": "stream",
     "text": [
      "2 * 0 =   0\n",
      "2 * 1 =   2\n",
      "2 * 2 =   4\n",
      "2 * 3 =   6\n",
      "2 * 4 =   8\n",
      "2 * 5 =   10\n",
      "2 * 6 =   12\n",
      "2 * 7 =   14\n",
      "2 * 8 =   16\n",
      "2 * 9 =   18\n",
      "2 * 10 =   20\n"
     ]
    }
   ],
   "source": [
    "a = int(input(\"ENTER THE TABLE NUMBER\"))\n",
    "n = int(input(\"ENTER THE NUMBER OF TABLE\"))\n",
    "\n",
    "i=0\n",
    "while i<=n:\n",
    "    print(f\"{a} * {i} =  \", a*i)\n",
    "    i= i+1"
   ]
  },
  {
   "cell_type": "code",
   "execution_count": 22,
   "id": "9eb26401-0ad2-4b0c-b710-759484f2a573",
   "metadata": {},
   "outputs": [
    {
     "name": "stdout",
     "output_type": "stream",
     "text": [
      "2002,2009,2016,2023,2037,2044,2051,2058,2072,2079,2086,2093,2107,2114,2121,2128,2142,2149,2156,2163,2177,2184,2191,2198,2212,2219,2226,2233,2247,2254,2261,2268,2282,2289,2296,2303,2317,2324,2331,2338,2352,2359,2366,2373,2387,2394,2401,2408,2422,2429,2436,2443,2457,2464,2471,2478,2492,2499,2506,2513,2527,2534,2541,2548,2562,2569,2576,2583,2597,2604,2611,2618,2632,2639,2646,2653,2667,2674,2681,2688,2702,2709,2716,2723,2737,2744,2751,2758,2772,2779,2786,2793,2807,2814,2821,2828,2842,2849,2856,2863,2877,2884,2891,2898,2912,2919,2926,2933,2947,2954,2961,2968,2982,2989,2996,3003,3017,3024,3031,3038,3052,3059,3066,3073,3087,3094,3101,3108,3122,3129,3136,3143,3157,3164,3171,3178,3192,3199\n"
     ]
    }
   ],
   "source": [
    "r=[]\n",
    "for i in range(2000,3200):\n",
    "    if i%7==0 and i%5!=0:\n",
    "        r.append(str(i))\n",
    "\n",
    "print(','.join(r))\n"
   ]
  },
  {
   "cell_type": "code",
   "execution_count": 33,
   "id": "6e750057-97c3-45c8-b39a-eaffc650c2cd",
   "metadata": {},
   "outputs": [
    {
     "name": "stdout",
     "output_type": "stream",
     "text": [
      "the count of integer= 6\n",
      "the count of boolean=  0\n",
      "the count of char= 4\n",
      "the count of decimal= 1\n"
     ]
    }
   ],
   "source": [
    "a =  [2, 3, 'Py', '10', 1, 'SQL', 5.5, True, 3, 'John', None, 7]\n",
    "no_int = 0\n",
    "no_char = 0\n",
    "no_bool = 0\n",
    "no_float= 0\n",
    "for i in a:\n",
    "    if isinstance(i,int):\n",
    "        no_int+=1\n",
    "    elif isinstance(i,str):\n",
    "        no_char+=1\n",
    "    elif isinstance(i,bool):\n",
    "        no_bool+=1\n",
    "    elif isinstance(i,float):\n",
    "        no_float+=1    \n",
    "\n",
    "\n",
    "print(\"the count of integer=\",no_int)\n",
    "print(\"the count of boolean= \",no_bool)\n",
    "print(\"the count of char=\",no_char)\n",
    "print(\"the count of decimal=\",no_float)"
   ]
  },
  {
   "cell_type": "code",
   "execution_count": 34,
   "id": "0a765e54-6bf4-4a68-b11a-2d0865392ee1",
   "metadata": {},
   "outputs": [
    {
     "name": "stdout",
     "output_type": "stream",
     "text": [
      "the sum of element will be= 22.5\n"
     ]
    }
   ],
   "source": [
    "a=[2, 3, 'Py', '10', 1, 'SQL', 5.5, True, 3, 'John', None, 7]\n",
    "\n",
    "total = 0\n",
    "\n",
    "for i in a:\n",
    "    if isinstance(i,(int,float)):\n",
    "        total += i\n",
    "\n",
    "print(\"the sum of element will be=\", total)\n",
    "        "
   ]
  },
  {
   "cell_type": "code",
   "execution_count": 42,
   "id": "e22551a2-16e6-4499-b490-8da82c386742",
   "metadata": {},
   "outputs": [
    {
     "name": "stdout",
     "output_type": "stream",
     "text": [
      "the concat of element will be= Py+10+SQL+John\n"
     ]
    }
   ],
   "source": [
    "a = [2, 3, 'Py', '10', 1, 'SQL', 5.5, True, 3, 'John', None, 7]\n",
    "total = \"\"\n",
    "\n",
    "for i in a:\n",
    "    if isinstance(i,str):\n",
    "        total += i+\"+\"\n",
    "\n",
    "total=total.rstrip('+')\n",
    "\n",
    "print(\"the concat of element will be=\", total)"
   ]
  },
  {
   "cell_type": "code",
   "execution_count": null,
   "id": "0568b4f0-5151-4e8a-a4a5-179a7431d58e",
   "metadata": {},
   "outputs": [],
   "source": []
  }
 ],
 "metadata": {
  "kernelspec": {
   "display_name": "Python 3 (ipykernel)",
   "language": "python",
   "name": "python3"
  },
  "language_info": {
   "codemirror_mode": {
    "name": "ipython",
    "version": 3
   },
   "file_extension": ".py",
   "mimetype": "text/x-python",
   "name": "python",
   "nbconvert_exporter": "python",
   "pygments_lexer": "ipython3",
   "version": "3.11.5"
  }
 },
 "nbformat": 4,
 "nbformat_minor": 5
}
